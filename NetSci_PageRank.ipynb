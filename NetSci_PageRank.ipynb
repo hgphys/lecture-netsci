{
  "nbformat": 4,
  "nbformat_minor": 0,
  "metadata": {
    "colab": {
      "name": "NetSci_PageRank.ipynb",
      "provenance": [],
      "authorship_tag": "ABX9TyNu/8LQO+bley5tY2kSHhMX",
      "include_colab_link": true
    },
    "kernelspec": {
      "name": "python3",
      "display_name": "Python 3"
    },
    "language_info": {
      "name": "python"
    }
  },
  "cells": [
    {
      "cell_type": "markdown",
      "metadata": {
        "id": "view-in-github",
        "colab_type": "text"
      },
      "source": [
        "<a href=\"https://colab.research.google.com/github/hgphys/lecture-netsci/blob/main/NetSci_PageRank.ipynb\" target=\"_parent\"><img src=\"https://colab.research.google.com/assets/colab-badge.svg\" alt=\"Open In Colab\"/></a>"
      ]
    },
    {
      "cell_type": "markdown",
      "metadata": {
        "id": "Qk898FU5hnsj"
      },
      "source": [
        "# **「つながり」のデータサイエンス**\n",
        "金沢学院大学経済情報学部講師　後藤弘光\n",
        "\n",
        "Pythonのネットワーク分析ライブラリ（[NetworkX](https://networkx.org/)）を用いて有向グラフを可視化してみましょう。"
      ]
    },
    {
      "cell_type": "code",
      "metadata": {
        "id": "giQrs7Z9hkh8"
      },
      "source": [
        "\"\"\"\n",
        "　利用するライブラリをインポートする\n",
        "\"\"\"\n",
        "import networkx as nx\n",
        "import numpy as np\n",
        "import matplotlib.pyplot as plt\n",
        "\n",
        "\"\"\"\n",
        "　有向グラフとして定義する（初期化）\n",
        "\"\"\"\n",
        "G = nx.DiGraph()"
      ],
      "execution_count": null,
      "outputs": []
    },
    {
      "cell_type": "code",
      "metadata": {
        "colab": {
          "base_uri": "https://localhost:8080/"
        },
        "id": "JQJP9K3SiXp7",
        "outputId": "47923938-ca5d-4d39-bb2b-96fa9560be7d"
      },
      "source": [
        "\"\"\"\n",
        " コンピュータに伝える有向エッジを入力してみよう！\n",
        "\"\"\"\n",
        "edge = [\"a\",\"c\"]  # \" \"の中身を変えてみよう　半角入力になっているか確認！\n",
        "print(edge[0],\"から\",edge[1],\"を結ぶ線\")"
      ],
      "execution_count": null,
      "outputs": [
        {
          "output_type": "stream",
          "name": "stdout",
          "text": [
            "a から c を結ぶ線\n"
          ]
        }
      ]
    },
    {
      "cell_type": "code",
      "metadata": {
        "colab": {
          "base_uri": "https://localhost:8080/",
          "height": 357
        },
        "id": "Jkrqc7BQimGa",
        "outputId": "3dee0c31-8e50-4ff2-e291-876fcd61b08a"
      },
      "source": [
        "\"\"\"\n",
        " 正しく出力されているのを確認して大丈夫ならココを実行してみよう！\n",
        " グラフに自分が追加したいエッジが追加されていますか？\n",
        "\"\"\"\n",
        "G.add_edge(edge[0],edge[1]) # 追加するとき\n",
        "#G.remove_edge(edge[0],edge[1])  # 削除するとき\n",
        "\"\"\"\n",
        "　グラフを可視化してみる\n",
        "\"\"\"\n",
        "plt.figure(figsize=(7,6))\n",
        "plt.axis('off')\n",
        "pos = nx.circular_layout(G)\n",
        "nx.draw_networkx_edges(G, pos, edge_color = 'black',alpha=1, arrowstyle=\"->\")\n",
        "nx.draw_networkx_nodes(G, pos, node_color = 'red', node_size = 300)\n",
        "nx.draw_networkx_labels(G,pos, font_size=20, font_color = \"white\")\n",
        "plt.show()"
      ],
      "execution_count": null,
      "outputs": [
        {
          "output_type": "display_data",
          "data": {
            "image/png": "[encoded data removed]",
            "text/plain": [
              "<Figure size 504x432 with 1 Axes>"
            ]
          },
          "metadata": {}
        }
      ]
    },
    {
      "cell_type": "code",
      "metadata": {
        "colab": {
          "base_uri": "https://localhost:8080/"
        },
        "id": "N2O_YKiJiu-k",
        "outputId": "24109c0a-9a99-4964-cd38-8523ba3f2701"
      },
      "source": [
        "\"\"\"\n",
        "　PageRankを計算してみる\n",
        "\"\"\"\n",
        "PageRank = nx.pagerank(G) \n",
        "PageRank"
      ],
      "execution_count": null,
      "outputs": [
        {
          "output_type": "execute_result",
          "data": {
            "text/plain": [
              "{'a': 0.3508773619358619, 'c': 0.649122638064138}"
            ]
          },
          "metadata": {},
          "execution_count": 52
        }
      ]
    },
    {
      "cell_type": "code",
      "metadata": {
        "colab": {
          "base_uri": "https://localhost:8080/",
          "height": 357
        },
        "id": "pTSQL8dCqEhR",
        "outputId": "61553a66-edcc-4c94-9eab-504f236e0f5c"
      },
      "source": [
        "\"\"\"\n",
        "　PageRankが高いほどノードの色を濃くして可視化してみる\n",
        "\"\"\"\n",
        "plt.figure(figsize=(7,6))\n",
        "plt.axis('off')\n",
        "pos = nx.circular_layout(G)\n",
        "nx.draw_networkx_edges(G, pos, edge_color = 'black',alpha=1, arrowstyle=\"->\")\n",
        "nx.draw_networkx_nodes(G, pos, node_size = 300, node_color=list(PageRank.values()), cmap=plt.cm.Reds)\n",
        "nx.draw_networkx_labels(G,pos, font_size=20, font_color = \"white\")\n",
        "plt.show()"
      ],
      "execution_count": null,
      "outputs": [
        {
          "output_type": "display_data",
          "data": {
            "image/png": "[encoded data removed]",
            "text/plain": [
              "<Figure size 504x432 with 1 Axes>"
            ]
          },
          "metadata": {}
        }
      ]
    },
    {
      "cell_type": "code",
      "metadata": {
        "id": "3WsVKiIUqF2A"
      },
      "source": [
        ""
      ],
      "execution_count": null,
      "outputs": []
    }
  ]
}